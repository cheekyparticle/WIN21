{
 "cells": [
  {
   "cell_type": "markdown",
   "metadata": {
    "slideshow": {
     "slide_type": "slide"
    }
   },
   "source": [
    "## New insights into dark matter from EFT basics\n",
    "\n",
    "### Based on [arXiv:2005.12789](https://arxiv.org/abs/2005.12789)\n",
    "#### Andrew Cheek \n",
    "\n",
    "\n",
    "#### You are viewing the pdf version of the slides, the links will not work. \n",
    "#### For the interactive version please click the little binder button here [![Binder](https://mybinder.org/badge_logo.svg)](https://mybinder.org/v2/gh/cheekyparticle/IRN_at_ZOOM/main?filepath=DMEFT_slides.ipynb)\n",
    "\n",
    "\n",
    "\n",
    "\n",
    "<br>\n",
    "<br>\n",
    "<br>\n",
    "<br>\n",
    "\n",
    "\n",
    "<img src=\"logos/logo_UCL_portail.jpg\" style=\"width:20%; float:right\"/>\n",
    "<img src=\"logos/beh_logo_v3c.png\" style=\"width:10%; float:left\"/>"
   ]
  },
  {
   "cell_type": "markdown",
   "metadata": {
    "slideshow": {
     "slide_type": "slide"
    }
   },
   "source": [
    "## New insights into dark matter from EFT basics\n",
    "\n",
    "### Based on [arXiv:2005.12789](https://arxiv.org/abs/2005.12789)\n",
    "#### Andrew Cheek \n",
    "##### In collaboration with C. Arina, K. Mimasu and L. Pagani\n",
    "\n",
    "<br>\n",
    "<br>\n",
    "<br>\n",
    "<br>\n",
    "\n",
    "\n",
    "<img src=\"logos/logo_UCL_portail.jpg\" style=\"width:20%; float:right\"/>\n",
    "<img src=\"logos/beh_logo_v3c.png\" style=\"width:10%; float:left\"/>"
   ]
  },
  {
   "cell_type": "markdown",
   "metadata": {
    "slideshow": {
     "slide_type": "slide"
    }
   },
   "source": [
    "## Dark Matter and light\n",
    "\n",
    "<div style=\"width: 50%; float:left;\"> \n",
    "<br>\n",
    " \n",
    "- Everything we know about dark matter says that its electromagnetically neutral, or at most millicharged.\n",
    "- At the same time photons are a primary messenger for astrophysical and cosmological probes.\n",
    "- Generically BSM scenarios with heavy charged particles will couple DM to photon via loops. \n",
    "- These new charged particles, if they exist, are too heavy to be seen directly at the LHC, effective DM-$\\gamma$ interactions may give us a better picture of the possibilities.  \n",
    "\n",
    "</div>\n",
    "\n",
    "<img src=\"pictures/showering.png\" alt=\"Drawing\" style=\"width: 45%; float: right;\"/>"
   ]
  },
  {
   "cell_type": "markdown",
   "metadata": {
    "slideshow": {
     "slide_type": "subslide"
    }
   },
   "source": [
    "## Photon moments\n",
    "\n",
    "- We consider the dimension 5 and 6 effective operators between the photon and a fermionic singlet. \n",
    "$$\n",
    "\\mathcal{L}_{\\mathrm{Dirac}}^{\\psi}= 2 \\mathcal{L}_{\\mathrm{Majorana}}^{\\chi \\rightarrow \\psi} +\n",
    "\\left[\n",
    " \\frac{\\mathcal{C}_{\\mathcal{M}}}{2 \\Lambda} \\bar{\\psi} \\sigma^{\\mu \\nu} \\psi \\cdot F_{\\mu \\nu}\n",
    "+\\frac{\\mathcal{C}_{el}}{2 \\Lambda} i \\bar{\\psi} \\sigma^{\\mu \\nu} \\gamma^{5} \\psi \\cdot F_{\\mu \\nu}\n",
    "+\\frac{\\mathcal{C}_{cr}}{\\Lambda^{2}} \\bar{\\psi} \\gamma^{\\mu} \\psi \\cdot \\partial^{\\nu} F_{\\mu \\nu}\n",
    "\\right]$$\n",
    "\n",
    "<br>\n",
    "<br>\n",
    "\n",
    "<div style=\"width:100%; float:center; margin-left:25%\">\n",
    "    with\n",
    "</div> \n",
    "$$\n",
    "\\mathcal{L}_{\\mathrm{Majorana}}^{\\chi}= \\frac{C_{\\mathcal{A}}}{\\Lambda^{2}} \\frac{1}{2} \\bar{\\chi} \\gamma^{\\mu} \\gamma^{5} \\chi \\cdot \\partial^{\\nu} F_{\\mu \\nu}$$\n",
    "\n",
    "- $\\chi$ is Majorana and $\\psi$ is Dirac dark matter, but we choose the normalisation such that $\\frac{C_{\\mathcal{A}}}{\\Lambda^{2}}$ constraints are the same for both. \n"
   ]
  },
  {
   "cell_type": "markdown",
   "metadata": {
    "slideshow": {
     "slide_type": "skip"
    }
   },
   "source": [
    "## The toughest moment to constrain\n",
    "\n",
    "\n",
    "<div style=\"width:50%; float:left\">\n",
    "<br>\n",
    "    \n",
    "- For majorana dark matter all are zero except the anapole. \n",
    "- Also anapole is velocity surpressed so we potentially have an explaination for why we don't see it.\n",
    "- These kinds of scenarios are particularly appealing for light dark matter models.\n",
    "\n",
    "</div>\n",
    "\n",
    "<img src=\"pictures/indirect_lims_planck.png\" style=\"float:right; width:45%;\">\n"
   ]
  },
  {
   "cell_type": "markdown",
   "metadata": {
    "slideshow": {
     "slide_type": "subslide"
    }
   },
   "source": [
    "## Effective Field Theory recap\n",
    "\n",
    "<img src=\"pictures/fermi_feyn.png\" style=\"width:50%; float:right;\">\n",
    "\n",
    "<div style=\"width:50%; float:left\">\n",
    "    \n",
    "- Effective field theories are incredibly useful everywhere in physics. \n",
    "\n",
    "- Studying them helps you focus on just the relevent degrees of freedom. \n",
    "</div>\n",
    "\n",
    "   - They provide a systematic prescription for searching for and constraining new physics.\n",
    "   - Build operators at higher dimensions, each dimension introduces a mass supression. \n",
    "   \n",
    "$$ \\mathcal{L}_{\\rm{EFT}}\\approx \\mathcal{L}_{\\rm{SM}} + \\sum \\frac{C_5}{\\Lambda}\\mathcal{O}_5 + \\sum \\frac{C_6}{\\Lambda^{2}}\\mathcal{O}_6 + ... $$ \n",
    "\n",
    "   - This picture only works if processes studied are sufficiently below $\\Lambda$.\n",
    "   \n",
    "   - When building higher dimension operators, one uses the symmetries of the low-energy theories. At colliders we use the SM gauge symmetries, in direct detection its Galilean symmetry. "
   ]
  },
  {
   "cell_type": "markdown",
   "metadata": {
    "slideshow": {
     "slide_type": "notes"
    }
   },
   "source": [
    "- Electric, only non-zero when couplings are complex (in loop case)."
   ]
  },
  {
   "cell_type": "markdown",
   "metadata": {
    "slideshow": {
     "slide_type": "subslide"
    }
   },
   "source": [
    "## To $F_{\\mu\\nu}$ or to $B_{\\mu\\nu}$...\n",
    "\n",
    "- We know from the basic tenets of effective field theories that we should choose $B_{\\mu\\nu}$ since its invariant under the SM gauge group. \n",
    "- This is related to $F_{\\mu\\nu}$ and $Z_{\\mu\\nu}$ simply by \n",
    "$$\n",
    "\\mathcal{O}^{\\mu \\nu} B_{\\mu \\nu}= c_{\\rm{w}}\\mathcal{O}^{\\mu \\nu} F_{\\mu \\nu}- s_{\\rm{w}} \\mathcal{O}^{\\mu \\nu} Z_{\\mu \\nu} \n",
    "$$\n",
    "\n",
    "  so at low energies (think direct detection)\n",
    "\n",
    "$$\n",
    "\\mathcal{O}^{\\mu \\nu} B_{\\mu \\nu}\\approx c_{\\rm{w}}\\mathcal{O}^{\\mu \\nu} F_{\\mu \\nu}+ \\mathcal{O}\\left(\\frac{q^{2}}{m_{Z}^{2}}\\right) \n",
    "$$\n",
    "\n",
    "- Therefore its often considered a choice. I'm here to show you that this it is not the case which has implications on the phenomenology. "
   ]
  },
  {
   "cell_type": "markdown",
   "metadata": {
    "slideshow": {
     "slide_type": "slide"
    }
   },
   "source": [
    "## Early moment papers \n",
    "\n",
    "- [Pospelov and Veldhuis](https://inspirehep.net/literature/524490) present the interactions in a 2000 paper and focus only on direct detection. \n",
    "- [Sigurdson et. al](https://inspirehep.net/literature/652451) in 2004 have a very comprehensive study on the dark matter phenomology. With $m_{\\chi}$ up to $10^4$ GeV \n",
    "\n",
    "<img src=\"pictures/chichi_ff_gamma.png\" style=\"float:left; margin-left:10%; width:33%\" />  <img src=\"pictures/chichi_gamma.png\" style=\"float:right; width:35%; margin-right:10%;\"/> \n",
    "\n",
    "- [Ho and Scherrer](https://inspirehep.net/literature/1197999) in the 2012 anapole dark matter paper were hesistant to explore $m_{\\chi}\\geq m_W$, we assume because they understood that care would have to be taken at the EW scale. \n",
    "\n",
    "\n"
   ]
  },
  {
   "cell_type": "markdown",
   "metadata": {
    "slideshow": {
     "slide_type": "subslide"
    }
   },
   "source": [
    "## More recent work\n",
    "\n",
    "   \n",
    "<div style=\"width: 50%; float:left;\"> \n",
    "    \n",
    "- In [A. Florez et. al.](https://inspirehep.net/literature/1718610) (Phys.Rev.D 100 (2019)) studied the VBF signature coming from the triple vertex between two W's and a photon. \n",
    "\n",
    "- Using the specific VBF topology, they were able to get impressive results for the anapole. \n",
    "\n",
    "</div>\n",
    "    \n",
    "<img src=\"pictures/chichijj_diagram_EW.png\" style=\"float:right; width:30%; margin-right:10%\"/>\n",
    "\n",
    "- This suggests that perhaps a diagram is missing in the relic density calculations \n",
    "\n",
    "<img src=\"pictures/chichi_WW_gamma.png\" style=\"float:left; width:30%; margin-left:10%\"/>\n",
    "    \n",
    "<div style=\"width: 50%; float:right;\"> \n",
    "<br>\n",
    "    \n",
    "- [B. Kavanagh et. al](https://inspirehep.net/literature/1696493) (JHEP 04 (2019)) assert that these interactions are subdominant compared to the photon operator. They only consider direct and indirect dark matter searches. \n",
    "    \n",
    "</div>\n"
   ]
  },
  {
   "cell_type": "markdown",
   "metadata": {
    "slideshow": {
     "slide_type": "slide"
    }
   },
   "source": [
    "## Can we ignore $ \\chi \\chi \\rightarrow W^{+}\\,W^{-}$?  \n",
    "\n",
    "- Lets take the anapole, since the promising VBF results were for that.\n",
    "<div class='multiCol'>\n",
    "    \n",
    "<div class='col'>\n",
    "<img src=\"pictures/chichi_WW_gamma.png\" style=\"float:left; margin-left:15%\">\n",
    "\n",
    "- As we can see the amplitude grows as $s^4$, already a bad sign. At most dimension 6 should be $\\propto s^2$.\n",
    "\n",
    "- Using partial wave-analysis, unitarity is violated below the cutoff when $\\Lambda \\gtrsim \\frac{1.7 \\mathrm{TeV}}{\\sqrt{\\mathcal{C}_{\\mathcal{A}}^{\\gamma}}}$.\n",
    "\n",
    "</div>\n",
    "\n",
    "\n",
    "\n",
    "<div class='col'>\n",
    "$\\vert M_{\\mathcal{A}}^\\gamma\\vert^2\\sim \\frac{2\\pi\\alpha_{\\rm{EW}}}{9M_{W}^4}\n",
    "\\left(\\frac{C_{\\mathcal{A}}^\\gamma}{\\Lambda^2}\\right)^2s^4\\,\\sin^2\\theta+\\mathcal{O}(s^3)$ \n",
    "\n",
    "for $M_W^2,M_{\\chi}^2\\ll s  < \\Lambda^2$\n",
    "\n",
    "<img src=\"pictures/sigma_mchi_EM.png\" float: right>\n",
    "\n",
    "\n",
    "</div>\n",
    "\n",
    "</div>\n"
   ]
  },
  {
   "cell_type": "markdown",
   "metadata": {
    "slideshow": {
     "slide_type": "subslide"
    }
   },
   "source": [
    "## The solution we already knew\n",
    "\n",
    "<div class='multiCol'>\n",
    "    \n",
    "<div class='col'>\n",
    "\n",
    "- Using instead the SM gauge invariant field $B_{\\mu\\nu}$, you have the Z diagram interfering.\n",
    "\n",
    "- Unsurprisingly this exactly cancels the $s^4$ growth in the amplitude squared\n",
    "\n",
    "$$\\vert M_{\\rm{A}}\\vert^2\\sim \\frac{2\\pi\\alpha_{\\rm{EW}}}{c_{\\rm{w}}^2}\n",
    "\\left(\\frac{C_{\\mathcal{A}}}{\\Lambda^2}\\right)^2s^2\\,\\sin^2\\theta+\\mathcal{O}(s).$$\n",
    "\n",
    "- So... can we ignore $ \\chi \\chi \\rightarrow W^{+}\\,W^{-}$? \n",
    "</div>\n",
    "\n",
    "<div class='col'>\n",
    "\n",
    "<img src=\"pictures/chichi_WW_gammaZ.png\" style=\"margin-left:35%;\">\n",
    "\n",
    "<img src=\"pictures/sigma_mchi.png\">\n",
    "\n",
    "</div>\n",
    "\n",
    "\n",
    "</div>"
   ]
  },
  {
   "cell_type": "markdown",
   "metadata": {
    "slideshow": {
     "slide_type": "subslide"
    }
   },
   "source": [
    "## Not really\n",
    "\n",
    "<div style=\"width: 50%; float:left;\"> \n",
    "<br>\n",
    "    \n",
    "- So in a sense you can ignore the $W^{+}W^{-}$ because its effects are not so dramatic for high DM masses. \n",
    "\n",
    "- However, requiring the $Z$ boson has a phenomenological impact, $Z$-funnel, $Z$-width and neutrino interactions. \n",
    "\n",
    "- The picture is for charge-radius, and is very similar for the other operators we consider.\n",
    "\n",
    "</div>\n",
    "\n",
    "<img src=\"pictures/sigma_s_CR.png\" style=\"float:right; width:45%\" > \n",
    "\n"
   ]
  },
  {
   "cell_type": "markdown",
   "metadata": {
    "slideshow": {
     "slide_type": "slide"
    }
   },
   "source": [
    "## VBF signals are once again sub-dominant\n",
    "\n",
    "<div style=\"width: 50%; float:left;\"> \n",
    "    \n",
    "- We replicate the VBF search in [A. Florez et. al.](https://inspirehep.net/literature/1718610) (Phys.Rev.D 100 (2019)) for both $F_{\\mu\\nu}$ and $B_{\\mu\\nu}$ \n",
    "<br>\n",
    "<br>\n",
    "<img src=\"pictures/chichijj_diagram_EW.png\" style=\"width:50%; float:left\" /> <img src=\"pictures/chichijj_diagram_EWZ.png\" style=\"width:50%; float:right\" />\n",
    "\n",
    "</div>\n",
    "\n",
    "<div style=\"width: 50%; float:right;\">\n",
    "    \n",
    "- Of course with the $Z$ included, the VBF constraints are much worse. \n",
    "\n",
    "\n",
    "<img src=\"pictures/F_B_ANA.png\" style=\"float:right; margin-right:15%\">\n",
    "\n",
    "\n",
    "</div>\n",
    "\n",
    "- So monojet plus MET is probably still the best signal to look for."
   ]
  },
  {
   "cell_type": "markdown",
   "metadata": {
    "slideshow": {
     "slide_type": "subslide"
    }
   },
   "source": [
    "## Monojet result\n",
    "\n",
    "<div class='multiCol'>\n",
    "\n",
    "<div class='col'>\n",
    "    \n",
    "<div class='col'>\n",
    "    \n",
    "$B$ Anapole\n",
    "<img src=\"pictures/Banapole_limits.png\"> \n",
    "\n",
    "</div>\n",
    "\n",
    "<div class='col'>\n",
    "   \n",
    "$B$ Charge-radius\n",
    "<img src=\"pictures/Bcr_limits.png\">\n",
    "\n",
    "</div>\n",
    "</div>\n",
    "\n",
    "<div class='col'>\n",
    "    \n",
    "<div class='col'>\n",
    "    \n",
    "$B$ Magnetic dipole\n",
    "<img src=\"pictures/Bmag_limits.png\"> \n",
    "\n",
    "</div>\n",
    "\n",
    "<div class='col'>\n",
    "   \n",
    "$B$ electric dipole\n",
    "<img src=\"pictures/Belec_limits.png\">\n",
    "\n",
    "</div>\n",
    "</div>\n",
    "\n",
    "</div>\n",
    "\n",
    "- Discussion of EFT validity can be read in our paper. \n",
    "\n"
   ]
  },
  {
   "cell_type": "markdown",
   "metadata": {
    "slideshow": {
     "slide_type": "skip"
    }
   },
   "source": [
    "## EFT validity is something to be careful of \n",
    "\n",
    "- We need to be sure that our proccess is sufficiently below $\\Lambda$. \n",
    "- Since constraints only apply to $C/\\Lambda^n$, you are technically safe up to a point. \n",
    "- Naively we can require $\\Lambda>p_{\\mathrm{T}}^{\\max }$ and recast $C / \\Lambda^{n}<$ limit, to get\n",
    "\n",
    "$$\n",
    "C_{j}>\\left(\\frac{\\max \\operatorname{bin}}{\\operatorname{limit}}\\right) \\quad \\text { and } \\quad C_{j}>\\left(\\frac{\\max \\operatorname{bin}}{\\operatorname{limit}}\\right)^{2}\n",
    "$$\n",
    "\n",
    "- Roughly this gives $C > \\mathcal{O}(1)$ for the current monojet constraints. \n",
    "\n",
    "- But perhaps one could push this down by analysing the signal a little bit.\n"
   ]
  },
  {
   "cell_type": "markdown",
   "metadata": {
    "slideshow": {
     "slide_type": "slide"
    }
   },
   "source": [
    "## Astroparticle constraints\n",
    "\n",
    "<div class='multiCol'>\n",
    "\n",
    "<div class='col'>\n",
    "    \n",
    "- In keeping with dark matter tradition, we check what happens with freeze-out.\n",
    "\n",
    "- Naive perturbative unitarity $\\frac{\\mathcal{C}_{5}}{\\Lambda} \\sqrt{s} \\leq 4 \\pi, \\quad \\text { and } \\quad \\frac{\\mathcal{C}_{6}}{\\Lambda^{2}} s \\leq 4 \\pi$. \n",
    "\n",
    "- We're actually considering the dimension 5 interaction up to dimension 6 though!\n",
    "\n",
    "</div>\n",
    "  \n",
    "<div class='col'>\n",
    "    \n",
    "<div class='col'>\n",
    "<img src=\"pictures/d6_justrelic.png\">\n",
    "</div>\n",
    "\n",
    "<div class='col'>\n",
    "<img src=\"pictures/d5_justrelic.png\">\n",
    "</div>\n",
    "\n",
    "<img src=\"pictures/chichi_gammaZ.png\" style=\"float:right; margin-right:20%;\">\n",
    "\n",
    "</div>   \n",
    "\n",
    "</div>   \n",
    "\n",
    "\n"
   ]
  },
  {
   "cell_type": "markdown",
   "metadata": {
    "slideshow": {
     "slide_type": "subslide"
    }
   },
   "source": [
    "## Indirect limits\n",
    "\n",
    "- We performed a up-to-date recast of current and future limits.\n",
    "\n",
    "|  | |  | | |\n",
    "|: :| |: :| |: :|\n",
    "| ![image info](pictures/CR_ID_only.png) | | ![image info](pictures/Mag_final_double.png) | |![image info](pictures/Elec_final_double.png)|"
   ]
  },
  {
   "cell_type": "markdown",
   "metadata": {
    "slideshow": {
     "slide_type": "slide"
    }
   },
   "source": [
    "## Global Results \n",
    "\n",
    "<div style=\"width: 50%; float:left;\"> \n",
    "<br>\n",
    "    \n",
    "   $$\\frac{\\mathcal{C}_{\\mathcal{M}}}{2 \\Lambda} \\bar{\\psi} \\sigma^{\\mu \\nu} \\psi \\cdot B_{\\mu \\nu}$$\n",
    "   \n",
    "   <img src=\"pictures/MAG_MONEY.png\" style=\"float:center; margin-left:10%\"/>\n",
    "\n",
    "</div>\n",
    "\n",
    "<div style=\"width: 50%; float:right;\"> \n",
    "<br>\n",
    "\n",
    "   $$\\frac{\\mathcal{C}_{el}}{2 \\Lambda} i \\bar{\\psi} \\sigma^{\\mu \\nu} \\gamma^{5} \\psi \\cdot B_{\\mu \\nu}$$\n",
    "\n",
    "   <img src=\"pictures/MONEY_elec.png\" style=\"float:center; margin-left:10%\"/>\n",
    "\n",
    " \n",
    "\n",
    "\n",
    "   "
   ]
  },
  {
   "cell_type": "markdown",
   "metadata": {
    "slideshow": {
     "slide_type": "subslide"
    }
   },
   "source": [
    "## Global Results \n",
    "\n",
    "<div style=\"width: 50%; float:left;\"> \n",
    "<br>\n",
    "    \n",
    "   $$\\frac{C_{\\mathcal{A}}}{\\Lambda^{2}} \\frac{1}{2} \\bar{\\chi} \\gamma^{\\mu} \\gamma^{5} \\chi \\cdot \\partial^{\\nu} B_{\\mu \\nu}$$\n",
    "   \n",
    "   <img src=\"pictures/money_plot_anapole.png\" style=\"float:center; margin-left:10%\"/>\n",
    "\n",
    "</div>\n",
    "\n",
    "<div style=\"width: 50%; float:right;\"> \n",
    "<br> \n",
    "    \n",
    "   $$\\frac{\\mathcal{C}_{cr}}{\\Lambda^{2}} \\bar{\\psi} \\gamma^{\\mu} \\psi \\cdot \\partial^{\\nu} B_{\\mu \\nu}$$\n",
    "\n",
    "   <img src=\"pictures/money_charge_radius.png\" style=\"float:center; margin-left:10%\"/>\n",
    "\n",
    "</div>\n"
   ]
  },
  {
   "cell_type": "markdown",
   "metadata": {
    "slideshow": {
     "slide_type": "subslide"
    }
   },
   "source": [
    "## Implications for light DM\n",
    "\n",
    "- Insisting on using the $B$ field provides a very strong constraint for light dark matter, lets see how it compares with electron recoil analysis as presented in [arXiv:1912.08204](https://inspirehep.net/literature/1771545).\n",
    "\n",
    "<div style=\"width: 50%; float:left;\"> \n",
    "\n",
    "- This is most relevant for anapole dark matter. \n",
    "\n",
    "- $Z$-width is orders of magnitude more constraining. \n",
    "\n",
    "- If you want to avoid this constraint, you have to fix unitarity violation before \n",
    "\n",
    "$$\\sqrt{s} \\gtrsim 4.3 \\sqrt{m_{Z} \\frac{\\Lambda}{\\sqrt{\\mathcal{C}_{\\mathcal{A}}^{\\gamma}}}}$$\n",
    "\n",
    "  \n",
    "</div>\n",
    "<img src=\"pictures/light_anapole.png\" alt=\"Drawing\" style=\"width: 45%; float: right;\"/>\n",
    "\n"
   ]
  },
  {
   "cell_type": "markdown",
   "metadata": {
    "slideshow": {
     "slide_type": "notes"
    }
   },
   "source": [
    "- Take the Xenon1T line at its best value $\\Lambda/\\sqrt{C} \\sim 10$, unitarity will be violated around 120 GeV.  "
   ]
  },
  {
   "cell_type": "markdown",
   "metadata": {
    "slideshow": {
     "slide_type": "slide"
    }
   },
   "source": [
    "## Conclusions \n",
    "\n",
    "- There isn't a choice between $B_{\\mu\\nu}$ and $F_{\\mu\\nu}$!\n",
    "- Sadly, it means that promising VBF results are no longer promising. \n",
    "- Other phenomelogical constraints are opened up though, mainly from $Z$ physics. \n",
    "- The simple freeze-out scenario is still allowed for dimension 6 interactions.  \n",
    "- Light dark matter experimental collaborations should be aware that $Z$-width constraints can be particularly strong for certain models.\n"
   ]
  }
 ],
 "metadata": {
  "celltoolbar": "Slideshow",
  "kernelspec": {
   "display_name": "Python 3",
   "language": "python",
   "name": "python3"
  },
  "language_info": {
   "codemirror_mode": {
    "name": "ipython",
    "version": 3
   },
   "file_extension": ".py",
   "mimetype": "text/x-python",
   "name": "python",
   "nbconvert_exporter": "python",
   "pygments_lexer": "ipython3",
   "version": "3.8.3"
  },
  "rise": {
   "autolaunch": true,
   "cp3image": "logos/CP3_logo.png",
   "enable_chalkboard": true,
   "footer": "<h3>ICTP-SAIFR 2020</h3>",
   "header": "<h3>Andrew Cheek</h3>",
   "overlay": "<div class='myname'><h3>Andrew Cheek</h3></div><div class='cp3logo'><img src='logos/CP3_logo.png'></div><div class='conferencename'><h3>ICTP-SAIFR 2020</h3></div>",
   "theme": "serif",
   "transition": "swipe"
  }
 },
 "nbformat": 4,
 "nbformat_minor": 2
}
