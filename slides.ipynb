{
 "cells": [
  {
   "cell_type": "markdown",
   "metadata": {
    "slideshow": {
     "slide_type": "slide"
    }
   },
   "source": [
    "<br>\n",
    "<br>\n",
    "\n",
    "## Dark Matter Phenomenology from Upcoming Neutrino Telescopes\n",
    "\n",
    "### Based on [arXiv:2103.01237](https://arxiv.org/pdf/2103.01237.pdf), JCAP 05 (2021) 054\n",
    "#### Andrew Cheek \n",
    "##### In collaboration with S. Basegmez du Pree, C. Arina, A. Dekker, M. Chianese, S. Ando\n",
    "\n",
    "<br>\n",
    "<br>\n",
    "<br>\n",
    "<br>\n",
    "<br>\n",
    "\n",
    "<img src=\"logos/beh_logo_v3c.png\" style=\"float: left; margin: 0px 15px 0px 0px; width: 10%\"/>\n",
    "\n",
    "<img src=\"logos/CP3_logo.png\" style=\"float: left; margin: 0px 15px 0px 500px; width: 8%\"/>\n",
    "\n",
    "<img src=\"logos/logo_UCL_portail.jpg\" style=\"float: right; margin: 0px 15px 0px 0px; width: 20%\"/>\n"
   ]
  },
  {
   "cell_type": "markdown",
   "metadata": {
    "slideshow": {
     "slide_type": "slide"
    }
   },
   "source": [
    "## Dark Matter Annihilating into neutrinos \n",
    "\n",
    "- Dark matter annihilation is central to thermal production.\n",
    "- In the WIMP mass range, neutrino telescopes are yet to achieve sensitivities to test the thermal relic. \n",
    "- In the future they will be, our study was to initiate the types of dark matter searches **experiments like KM3NeT** could be doing. \n",
    "|<img src=\"pictures/andres_stateofplay.png\" alt=\"Neutrino cross-section\" style=\"width:60%; float:center; margin-left:15%;\"/>|\n",
    "|:--:| \n",
    "| *[arXiv:1912.09486](https://arxiv.org/abs/1912.09486)* |\n",
    "\n"
   ]
  },
  {
   "cell_type": "markdown",
   "metadata": {
    "slideshow": {
     "slide_type": "subslide"
    }
   },
   "source": [
    "## First order connections between dark matter and neutrinos\n",
    "\n",
    "<div style=\"width:50%; float:left\">\n",
    "<br>\n",
    "\n",
    "- Neutrinos have similar characteristics to dark matter (neutral under QCD and EM). \n",
    "- $m_{\\nu}\\neq 0$ means physics beyond the SM. \n",
    "- Neutrinos are also great messenger particles for telescopes. \n",
    "\n",
    "\n",
    "</div>\n",
    "\n",
    "<div style=\"width:50%; float:right\">\n",
    "<br>\n",
    "<img src=\"pictures/showering.png\" alt=\"Neutrino cross-section\" style=\"width:60%; float:center; margin-left:15%;\"/>\n",
    "\n",
    "</div>"
   ]
  },
  {
   "cell_type": "markdown",
   "metadata": {
    "slideshow": {
     "slide_type": "slide"
    }
   },
   "source": [
    "## Angular Power spectrum (APS)\n",
    "\n",
    "- We wanted to test a new analysis method which initially was developed to help differentiate between DM and Astrophysical signals [JCAP 09 (2020) 007](https://arxiv.org/abs/1910.12917). \n",
    "- Astrophysical sources are expected to be uniformly distributed across the whole sky. \n",
    "- DM sources are correlated to the Galactic Centre. \n",
    "- In this paper we extended collaborators APS analysis from lowering the sensitivity to $m_{\\rm DM}=200\\, \\textrm{GeV}$. \n",
    "<br>\n",
    "<img src=\"pictures/APS.png\" alt=\"Different DM profiles\" style=\"width:100%; float:center; margin-left:0%;\"/>"
   ]
  },
  {
   "cell_type": "markdown",
   "metadata": {
    "slideshow": {
     "slide_type": "subslide"
    }
   },
   "source": [
    "## Angular Power spectrum (APS) how it works\n",
    "\n",
    "- We simulate neutrino skymaps with DM signal and expected background, below $100$ TeV atmospheric neutrinos is the dominant background. \n",
    "- Expanding the skymap in spherical harmonics $N_{\\nu}\\left(\\theta, \\phi \\right) = \\sum_{\\ell m} a_{\\ell m} Y_{\\ell m}\\left(\\theta, \\phi \\right)$. \n",
    "- APS is described by the average expansion coefficient over the sky \n",
    "$$C'_{\\ell} = \\frac{1}{2\\ell +1} \\sum_{m=-\\ell}^{\\ell} |a_{\\ell m}|^2$$\n",
    "- Since DM signal from GC is the anisotropic source, we normalize $C_{\\ell}=C'_{\\ell}/\\rm N_{tot}^2$\n",
    "- Build a $\\chi^2$ from $C_{\\ell}$.\n",
    "\n",
    "$$ \\chi^{2} \\left(C_{\\ell}\\right) = \\sum_{\\ell \\ell'} \\left(C_{\\ell} - C_{\\ell}^{\\rm{mean}}\\right) (\\rm{Cov}_{\\ell\\ell'})^{-1} \\left(C_{\\ell'} - C_{\\ell'}^{\\rm{mean}}\\right)$$\n",
    "\n",
    "- Which allows us to calculate the p-value\n",
    "\n",
    "$$p = \\int_{\\chi^2_{\\rm md}}^\\infty d\\chi^2 P(\\chi^2|\\Theta)$$"
   ]
  },
  {
   "cell_type": "markdown",
   "metadata": {
    "slideshow": {
     "slide_type": "subslide"
    }
   },
   "source": [
    "## Galactic DM probes have high levels of uncertainty \n",
    "\n",
    "- The distribution of DM in our Galaxy is not well known, especially in the Galactic Center.  \n",
    "- Neutrino flux $\\Phi_{\\nu\\overline{\\nu}}\\propto \\rho_{\\rm{DM}}^2$\n",
    "\n",
    "<img src=\"pictures/profile_plot.png\" alt=\"Different DM profiles\" style=\"width:45%; float:left; margin-left:0%; margin-top:%;\"/>\n",
    "\n",
    "<img src=\"pictures/limit_diff_halo.png\" alt=\"Different DM profiles\" style=\"width:45%; float:right; margin-right:0%; margin-bottom:0%;\"/>\n",
    "\n",
    "<div style=\"width:30%; float:right\">\n",
    "    \n",
    "[arXiv:1912.05296](https://arxiv.org/pdf/1912.05296.pdf)\n",
    "</div>"
   ]
  },
  {
   "cell_type": "markdown",
   "metadata": {
    "slideshow": {
     "slide_type": "subslide"
    }
   },
   "source": [
    "## APS reduces the sensitivity to DM halo\n",
    "\n",
    "- Here are the projections from our analysis (10 years of data taking).  \n",
    "- We see IceCube and ANTARES studies that do not use APS are much more sensitive to the halo distribution.  \n",
    "\n",
    "<img src=\"pictures/Comparison.png\" alt=\"Different DM profiles\" style=\"width:80%; float:center; margin-left:15%;\"/>"
   ]
  },
  {
   "cell_type": "markdown",
   "metadata": {
    "slideshow": {
     "slide_type": "slide"
    }
   },
   "source": [
    "## Looking for simple DM model that annihilates primarily into neutrinos\n",
    "\n",
    "- Its difficult to make a simple DM that annihilates to only neutrinos (when $m_{\\chi} > m_e$ ) because neutrinos live in the $SU(2)$ doublet $L$. \n",
    "\n",
    "- C El Aisati et. al. [arXiv:1706.06600](https://arxiv.org/abs/1706.06600) catalogued simple models (1 DM candidate and 1 portal particles). \n",
    "\n",
    "- Generically you have a charged lepton channel, so $\\gamma$-ray telescopes will be competing. \n",
    "\n",
    "<img src=\"pictures/model_indep.png\" alt=\"Different DM profiles\" style=\"width:40%; float:center; margin-left:5%;\"/>"
   ]
  },
  {
   "cell_type": "markdown",
   "metadata": {
    "slideshow": {
     "slide_type": "subslide"
    }
   },
   "source": [
    "## Neutrino Portal? \n",
    " \n",
    "- M. Blennow et. al. [arXiv:1903.00006](https://arxiv.org/abs/1903.00006) explored this, via a sterile neutrino portal.\n",
    "\n",
    "- Constraints on the heavy-active neutrino mixing make it difficult to go above DM masses $\\sim 100\\,\\textrm{GeV}$ which is what we were interested in. \n",
    "\n",
    "<img src=\"pictures/andres_scalar.png\" alt=\"Different DM profiles\" style=\"width:40%; float:left; margin-left:5%;\"/>\n",
    "<img src=\"pictures/andres_vector.png\" alt=\"Different DM profiles\" style=\"width:42%; float:right; margin-right:5%; margin-top:1%\"/>"
   ]
  },
  {
   "cell_type": "markdown",
   "metadata": {
    "slideshow": {
     "slide_type": "subslide"
    }
   },
   "source": [
    "## Its difficult to avoid direct dark matter detection\n",
    "\n",
    "<div style=\"width:50%; float:left\">\n",
    "<br>\n",
    "\n",
    "- At the DM masses we are interested in, direct detection often is most constraining.\n",
    "- Lepto-philic models don't interact at tree-level to quarks or gluons so DD is sometims neglected.\n",
    "\n",
    "<br>\n",
    "<br>\n",
    "\n",
    "<img src=\"pictures/anapole_loop.png\" alt=\"Different DM profiles\" style=\"float:left; width:50%; margin-left:0%\"/>\n",
    "<img src=\"pictures/SM_loop.png\" alt=\"Different DM profiles\" style=\"float:right; width:50%; margin-left:0%\"/>\n",
    "    \n",
    "</div>\n",
    "\n",
    "<div style=\"width:50%; float:right\">\n",
    "<br>\n",
    "    \n",
    "<img src=\"pictures/DD_explainer.png\" alt=\"Different DM profiles\" style=\"width:80%; margin-left:15%\"/>\n",
    "    \n",
    "- Loop and radiative corrections mean that a lepto-philic model will be constrained a low energies by baryons.     \n",
    "</div>\n",
    "\n"
   ]
  },
  {
   "cell_type": "markdown",
   "metadata": {
    "slideshow": {
     "slide_type": "slide"
    }
   },
   "source": [
    "## Simple scalar model \n",
    "\n",
    "- With interaction term $\\mathcal{L}^{\\varphi} = y_{\\alpha} \\bar{\\chi} L_{\\alpha} \\varphi^{\\dagger} + \\rm h.c.\\,,$ leads to $\\langle \\sigma v \\rangle\\propto \\frac{m_{\\chi}^2}{\\left(m_{\\chi}^2 + m_{\\varphi}^2\\right)^2}$. \n",
    "\n",
    "- Since $m_{\\varphi}>m_{\\chi}$ is required for DM stability, its difficult to reach higher masses. \n",
    "<img src=\"pictures/tchan_both_rhoerr.png\" alt=\"Different DM profiles\" style=\"width:80%; float:center; margin-left:7%;\"/>"
   ]
  },
  {
   "cell_type": "markdown",
   "metadata": {
    "slideshow": {
     "slide_type": "subslide"
    }
   },
   "source": [
    "## Vector mediated model \n",
    "- ${\\cal L}^{Z'} = \\bar\\chi \\gamma_{\\mu}\n",
    "  (g^{V}_{\\chi}+g^{A}_{\\chi}\\gamma_5)\\chi\\,Z'^{\\mu}  + \\sum_{\\alpha} \\bar l_\\alpha \\Big[\\gamma_{\\mu}\n",
    "    (g^{V}_{l_{\\alpha}}+g^{A}_{l_{\\alpha}}\\gamma_5) \\Big] l_\\alpha Z'^{\\mu}\\,,$ \n",
    "- For s-channel $m_{Z'}>m_{\\chi}\\Rightarrow\\langle \\sigma v \\rangle\\propto \\frac{m_{\\chi}^2}{\\left(4 m_{\\chi}^2 - m_{Z'}^2\\right)}$\n",
    "- Here showing $g^{V}_{l_{f}} =  g^{A}_{l_{f}}  \\equiv \\frac{1}{2} g_{\\rm L}$\n",
    "<img src=\"pictures/lepdoublet_both.png\" alt=\"Different DM profiles\" style=\"width:80%; float:center; margin-left:15%;\"/>"
   ]
  },
  {
   "cell_type": "markdown",
   "metadata": {
    "slideshow": {
     "slide_type": "subslide"
    }
   },
   "source": [
    "## Theoretically shaky ground\n",
    "\n",
    "- Having $g^{A}\\neq 0$ in simplified models have many theoretical constraints. \n",
    "- Due to the growth of longitudinal part of $Z'$ mediator, perturbative unitarity is violated at high energies [arXiv:1510.02110](https://arxiv.org/pdf/1510.02110.pdf). \n",
    "- Additionally, anomaly cancellation of a $U(1)$ gauge field restricts the couplings to the SM.\n",
    "<div style=\"width:50%; float:left\">\n",
    "<br>\n",
    "<img src=\"pictures/Triangle_diagram.png\" alt=\"Different DM profiles\" style=\"width:60%;\"/>\n",
    "</div>\n",
    "<div style=\"width:50%; float:right\">\n",
    "<br>\n",
    "   \n",
    "- An anomaly-free $U(1)$ extension is $L_{\\alpha}-L_{\\beta}$ \n",
    "- $L_{\\mu}-L_{\\tau}$ has weaker experimental contraints.\n",
    "- Additional vector-like Fermions can be added to this model.   \n",
    "</div>"
   ]
  },
  {
   "cell_type": "markdown",
   "metadata": {
    "slideshow": {
     "slide_type": "slide"
    }
   },
   "source": [
    "## The Anomaly free $U(1)_{L_{\\mu}-L_{\\tau}}$ model \n",
    "\n",
    "\n",
    "<div style=\"width:50%; float:left\">\n",
    "<br>\n",
    "    \n",
    "- Anomaly free, potentially there's a connection with flavor anomalies. \n",
    "- In the $m_{Z} \\sim 100$ GeV region its a similar story to before.\n",
    "- $g^{V}_{\\mu} = -g^{V}_{\\tau}=g_{\\mu-\\tau}\\,,$ \n",
    "- $g^{V}_{e}=g^{A}_{l_{f}}=0\\,,$\n",
    "- $g^V_\\chi \\equiv g_\\chi$\n",
    "- ${\\rm and}\\quad g^A_{\\chi} = 0.$ \n",
    "</div>\n",
    "\n",
    "<div style=\"width:50%; float:right\">\n",
    "<br>\n",
    "<img src=\"pictures/lmultau.png\" alt=\"Different DM profiles\" style=\"width:80%; float:center; margin-left:15%;\"/>\n",
    "</div>"
   ]
  },
  {
   "cell_type": "markdown",
   "metadata": {
    "slideshow": {
     "slide_type": "subslide"
    }
   },
   "source": [
    "## Where $U(1)_{L_{\\mu}-L_{\\tau}}$ models shine\n",
    "\n",
    "<div style=\"width:50%; float:left\">\n",
    "<br>\n",
    "    \n",
    "- An explanation of $(g-2)_{\\mu}$ anomaly, no DM required. See [D. Amarals asynchronous talk](https://www.youtube.com/watch?v=NWV07pVeC1g).\n",
    "- For our purposes ($m_{\\chi}>200$ GeV), the addition of a DM candidate would be severely constrained by direct detection $\\sigma_{DD}\\propto m_{Z'}^{-4}$.\n",
    "- We consider a light mediator $m_{Z'}<m_{\\chi}$ but in a secluded regime $g_{\\mu-\\tau}\\ll g_{\\chi}$. \n",
    "- So diboson production now allowed. \n",
    "</div>\n",
    "\n",
    "<div style=\"width:50%; float:right\">\n",
    "<br>\n",
    "<img src=\"pictures/LmLt_g2.png\" alt=\"Different DM profiles\" style=\"width:100%; float:center; margin-left:5%;\"/>\n",
    "</div>"
   ]
  },
  {
   "cell_type": "markdown",
   "metadata": {
    "slideshow": {
     "slide_type": "subslide"
    }
   },
   "source": [
    "## How low can $g_{\\mu-\\tau}$ be? \n",
    "<div style=\"width:50%; float:left\">\n",
    "<br>\n",
    "\n",
    "- The life-time of $Z'$ is constrained from below by BBN.\n",
    "    \n",
    "$$\\tau_{Z'} = \\sum_{f}\\frac{12\\pi m_{Z'}^2}{g_{\\mu-\\tau}^2 \\,\\sqrt{m_{Z'}^2 - 4m_f^2}\\left(m_{Z'}^2 -m_f^2\\right)}\\lesssim 1 \\rm \\,  s,$$\n",
    "</div>\n",
    "\n",
    "<div style=\"width:50%; float:right\">\n",
    "<img src=\"pictures/lifetime.png\" alt=\"Different DM profiles\" style=\"width:100%; float:center; margin-left:5%;\"/> \n",
    "\n",
    "</div>\n",
    "\n",
    "<div style=\"width:100%; float:center\">\n",
    "<br>\n",
    "\n",
    "- Which gives us the freedom to choose $g_{\\mu-\\tau}$ such that direct detection constraints are avoided.\n"
   ]
  },
  {
   "cell_type": "markdown",
   "metadata": {
    "slideshow": {
     "slide_type": "subslide"
    }
   },
   "source": [
    "## $U(1)_{L_{\\mu}-L_{\\tau}}$ secluded model \n",
    "\n",
    "\n",
    "<div style=\"width:50%; float:left\">\n",
    "<br>\n",
    "    \n",
    "- When $m_{Z^{\\prime}}< 2m_{\\mu}$ $\\textrm{Br}_{\\nu\\overline{\\nu}}= 100\\,\\textrm{%}$ \n",
    "- Additionally, since $m_{Z'}<m_{\\chi}$ the sommerfeld effect can play a role,\n",
    "<img src=\"pictures/blackboard.jpg\" alt=\"Different DM profiles\" style=\"width:80%;\"/>   \n",
    " <br>   \n",
    "- Since, $S\\propto 1/v^2$ and $v_{\\textrm{CMB}} << v_{\\textrm{dSph}}<<v_{\\textrm{gal}}$ CMB contraints are stronger than Fermi-LAT. \n",
    "</div>\n",
    "\n",
    "<div style=\"width:50%; float:right\">\n",
    "<br>\n",
    "<img src=\"pictures/lmultausecluded.png\" alt=\"Different DM profiles\" style=\"width:80%; float:center; margin-left:5%;\"/>\n",
    "</div>"
   ]
  },
  {
   "cell_type": "markdown",
   "metadata": {
    "slideshow": {
     "slide_type": "slide"
    }
   },
   "source": [
    "## Conclusions \n",
    "\n",
    "- We provided a projection of a KM3NeT-like telescope with a new Angular Power Spectrum analysis.\n",
    "- APS minimizes uncertainties in the galactic dark matter density.\n",
    "- We explored simple models for DM and how this analysis fits with the experimental landscape.\n",
    "- We highlighted the interesting posibility for a secluded $U(1)_{L_{\\mu}-L_{\\tau}}$ model."
   ]
  }
 ],
 "metadata": {
  "celltoolbar": "Slideshow",
  "kernelspec": {
   "display_name": "Python 3",
   "language": "python",
   "name": "python3"
  },
  "language_info": {
   "codemirror_mode": {
    "name": "ipython",
    "version": 3
   },
   "file_extension": ".py",
   "mimetype": "text/x-python",
   "name": "python",
   "nbconvert_exporter": "python",
   "pygments_lexer": "ipython3",
   "version": "3.8.3"
  },
  "rise": {
   "autolaunch": true,
   "cp3image": "logos/CP3_logo.png",
   "enable_chalkboard": true,
   "footer": "<h3>Friday Physics</h3>",
   "header": "<h3>Andrew Cheek</h3>",
   "overlay": "<div class='myname'><h3>Andrew Cheek</h3></div><div class='conferencename'><img src='logos/win_2021_logo_0.png'></div>",
   "theme": "serif",
   "transition": "swipe"
  }
 },
 "nbformat": 4,
 "nbformat_minor": 2
}
